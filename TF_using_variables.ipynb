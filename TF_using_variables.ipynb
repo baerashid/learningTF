{
  "nbformat": 4,
  "nbformat_minor": 0,
  "metadata": {
    "colab": {
      "name": "TF using variables.ipynb",
      "provenance": [],
      "authorship_tag": "ABX9TyOnTEZkSRHrVKJoDV87C297",
      "include_colab_link": true
    },
    "kernelspec": {
      "name": "python3",
      "display_name": "Python 3"
    }
  },
  "cells": [
    {
      "cell_type": "markdown",
      "metadata": {
        "id": "view-in-github",
        "colab_type": "text"
      },
      "source": [
        "<a href=\"https://colab.research.google.com/github/baerashid/learningTF/blob/master/TF_using_variables.ipynb\" target=\"_parent\"><img src=\"https://colab.research.google.com/assets/colab-badge.svg\" alt=\"Open In Colab\"/></a>"
      ]
    },
    {
      "cell_type": "code",
      "metadata": {
        "id": "y_1FlXT0q6rf",
        "colab_type": "code",
        "colab": {}
      },
      "source": [
        "#The default is TF 1.0, so forcing to use 2.0\n",
        "#run only once when creating notebook\n",
        "!pip uninstall tensorflow"
      ],
      "execution_count": 0,
      "outputs": []
    },
    {
      "cell_type": "code",
      "metadata": {
        "id": "aI7aeSssrDkZ",
        "colab_type": "code",
        "colab": {}
      },
      "source": [
        "!pip install tensorflow==2.1.0\n",
        "#Now we have to restart Runtime\n",
        "#Click above"
      ],
      "execution_count": 0,
      "outputs": []
    },
    {
      "cell_type": "code",
      "metadata": {
        "id": "p-Z43et0rOVr",
        "colab_type": "code",
        "outputId": "4dff53a2-d4f4-4bcc-b5de-dfc1257c8552",
        "colab": {
          "base_uri": "https://localhost:8080/",
          "height": 35
        }
      },
      "source": [
        "import numpy as np\n",
        "import tensorflow as tf\n",
        "print(tf.__version__)"
      ],
      "execution_count": 16,
      "outputs": [
        {
          "output_type": "stream",
          "text": [
            "2.1.0\n"
          ],
          "name": "stdout"
        }
      ]
    },
    {
      "cell_type": "code",
      "metadata": {
        "id": "NFHDJsbVrusR",
        "colab_type": "code",
        "colab": {
          "base_uri": "https://localhost:8080/",
          "height": 53
        },
        "outputId": "93eaafdc-0bda-40a6-bc80-7fad6bf58e5e"
      },
      "source": [
        "np.random.rand(8)*2"
      ],
      "execution_count": 31,
      "outputs": [
        {
          "output_type": "execute_result",
          "data": {
            "text/plain": [
              "array([0.27943275, 0.48167705, 0.93243931, 0.73907512, 0.07076635,\n",
              "       0.12819862, 0.74283671, 1.78627895])"
            ]
          },
          "metadata": {
            "tags": []
          },
          "execution_count": 31
        }
      ]
    },
    {
      "cell_type": "code",
      "metadata": {
        "id": "hOhrfrNCu3sc",
        "colab_type": "code",
        "colab": {}
      },
      "source": [
        "raw_data = ([0.23186374, 0.17079026, 1.3142489 , 0.05237168, 0.57384764,\n",
        "       1.8716504 , 0.98410483, 1.01303342])\n",
        "spikes = tf.Variable([False] * len(raw_data), name='spikes')"
      ],
      "execution_count": 0,
      "outputs": []
    },
    {
      "cell_type": "code",
      "metadata": {
        "id": "_ZTWTT2os0bL",
        "colab_type": "code",
        "outputId": "dd9a0c5e-88a6-4919-b792-514ea736a4a9",
        "colab": {
          "base_uri": "https://localhost:8080/",
          "height": 144
        }
      },
      "source": [
        "for i in range(1, len(raw_data)):\n",
        "  if raw_data[i] - raw_data[i-1] > 0.3:\n",
        "    spike.assign(True)\n",
        "  else:\n",
        "    spike.assign(False)  \n",
        "  tf.print(spike)"
      ],
      "execution_count": 19,
      "outputs": [
        {
          "output_type": "stream",
          "text": [
            "0\n",
            "1\n",
            "0\n",
            "0\n",
            "0\n",
            "0\n",
            "0\n"
          ],
          "name": "stdout"
        }
      ]
    },
    {
      "cell_type": "code",
      "metadata": {
        "id": "4Ox2ABahuI-V",
        "colab_type": "code",
        "colab": {}
      },
      "source": [
        "import os\n",
        "checkpoint_directory = \"/tmp/training_checkpoints\"\n",
        "checkpoint_prefix = os.path.join(checkpoint_directory, \"ckpt\")"
      ],
      "execution_count": 0,
      "outputs": []
    },
    {
      "cell_type": "code",
      "metadata": {
        "id": "9CxPxJHJxElO",
        "colab_type": "code",
        "colab": {
          "base_uri": "https://localhost:8080/",
          "height": 35
        },
        "outputId": "74fb8edc-d8a5-4d81-d839-0048114776a3"
      },
      "source": [
        "checkpoint_prefix"
      ],
      "execution_count": 37,
      "outputs": [
        {
          "output_type": "execute_result",
          "data": {
            "text/plain": [
              "'/tmp/training_checkpoints/ckpt'"
            ]
          },
          "metadata": {
            "tags": []
          },
          "execution_count": 37
        }
      ]
    },
    {
      "cell_type": "code",
      "metadata": {
        "id": "pyKHm6-GxIKc",
        "colab_type": "code",
        "colab": {
          "base_uri": "https://localhost:8080/",
          "height": 35
        },
        "outputId": "c125eb8d-b7c0-47aa-e132-31d98deb74ce"
      },
      "source": [
        "!ls"
      ],
      "execution_count": 24,
      "outputs": [
        {
          "output_type": "stream",
          "text": [
            "newdir\tsample_data\n"
          ],
          "name": "stdout"
        }
      ]
    },
    {
      "cell_type": "code",
      "metadata": {
        "id": "2BxyGLYLxJE9",
        "colab_type": "code",
        "colab": {}
      },
      "source": [
        ""
      ],
      "execution_count": 0,
      "outputs": []
    }
  ]
}