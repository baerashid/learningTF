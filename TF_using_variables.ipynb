{
  "nbformat": 4,
  "nbformat_minor": 0,
  "metadata": {
    "colab": {
      "name": "TF using variables.ipynb",
      "provenance": [],
      "authorship_tag": "ABX9TyORMH5D24Lnca0UuIKmlSC4",
      "include_colab_link": true
    },
    "kernelspec": {
      "name": "python3",
      "display_name": "Python 3"
    }
  },
  "cells": [
    {
      "cell_type": "markdown",
      "metadata": {
        "id": "view-in-github",
        "colab_type": "text"
      },
      "source": [
        "<a href=\"https://colab.research.google.com/github/baerashid/learningTF/blob/master/TF_using_variables.ipynb\" target=\"_parent\"><img src=\"https://colab.research.google.com/assets/colab-badge.svg\" alt=\"Open In Colab\"/></a>"
      ]
    },
    {
      "cell_type": "code",
      "metadata": {
        "id": "y_1FlXT0q6rf",
        "colab_type": "code",
        "colab": {}
      },
      "source": [
        "#The default is TF 1.0, so forcing to use 2.0\n",
        "#run only once when creating notebook\n",
        "!pip uninstall tensorflow"
      ],
      "execution_count": 0,
      "outputs": []
    },
    {
      "cell_type": "code",
      "metadata": {
        "id": "aI7aeSssrDkZ",
        "colab_type": "code",
        "colab": {}
      },
      "source": [
        "!pip install tensorflow==2.1.0\n",
        "#Now we have to restart Runtime\n",
        "#Click above"
      ],
      "execution_count": 0,
      "outputs": []
    },
    {
      "cell_type": "code",
      "metadata": {
        "id": "p-Z43et0rOVr",
        "colab_type": "code",
        "colab": {
          "base_uri": "https://localhost:8080/",
          "height": 35
        },
        "outputId": "4ee4ae94-20ef-42e9-c654-8a32f4794406"
      },
      "source": [
        "import numpy as np\n",
        "import tensorflow as tf\n",
        "print(tf.__version__)"
      ],
      "execution_count": 1,
      "outputs": [
        {
          "output_type": "stream",
          "text": [
            "2.1.0\n"
          ],
          "name": "stdout"
        }
      ]
    },
    {
      "cell_type": "code",
      "metadata": {
        "id": "NFHDJsbVrusR",
        "colab_type": "code",
        "colab": {}
      },
      "source": [
        "raw_data = np.random.rand(8)\n",
        "spike = tf.Variable(False)"
      ],
      "execution_count": 0,
      "outputs": []
    },
    {
      "cell_type": "code",
      "metadata": {
        "id": "hOhrfrNCu3sc",
        "colab_type": "code",
        "colab": {
          "base_uri": "https://localhost:8080/",
          "height": 53
        },
        "outputId": "445202f6-c773-42c0-d440-647e7397bb5e"
      },
      "source": [
        "raw_data"
      ],
      "execution_count": 13,
      "outputs": [
        {
          "output_type": "execute_result",
          "data": {
            "text/plain": [
              "array([0.45519323, 0.06439488, 0.21272812, 0.20315503, 0.21453914,\n",
              "       0.95714778, 0.61407846, 0.85286922])"
            ]
          },
          "metadata": {
            "tags": []
          },
          "execution_count": 13
        }
      ]
    },
    {
      "cell_type": "code",
      "metadata": {
        "id": "_ZTWTT2os0bL",
        "colab_type": "code",
        "colab": {
          "base_uri": "https://localhost:8080/",
          "height": 144
        },
        "outputId": "b6a11a06-f11d-4b76-feb2-6bc81fb75857"
      },
      "source": [
        "for i in range(1, len(raw_data)):\n",
        "  if raw_data[i] - raw_data[i-1] > 0.3:\n",
        "    spike.assign(True)\n",
        "  else:\n",
        "    spike.assign(False)  \n",
        "  tf.print(spike)"
      ],
      "execution_count": 15,
      "outputs": [
        {
          "output_type": "stream",
          "text": [
            "0\n",
            "0\n",
            "0\n",
            "0\n",
            "1\n",
            "0\n",
            "0\n"
          ],
          "name": "stdout"
        }
      ]
    },
    {
      "cell_type": "code",
      "metadata": {
        "id": "4Ox2ABahuI-V",
        "colab_type": "code",
        "colab": {}
      },
      "source": [
        ""
      ],
      "execution_count": 0,
      "outputs": []
    }
  ]
}